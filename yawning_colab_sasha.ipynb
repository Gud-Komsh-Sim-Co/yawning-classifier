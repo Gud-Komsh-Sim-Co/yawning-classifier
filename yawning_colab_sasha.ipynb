{
  "nbformat": 4,
  "nbformat_minor": 0,
  "metadata": {
    "colab": {
      "name": "yawning_colab_sasha.ipynb",
      "provenance": []
    },
    "kernelspec": {
      "name": "python3",
      "display_name": "Python 3"
    },
    "accelerator": "GPU"
  },
  "cells": [
    {
      "cell_type": "code",
      "metadata": {
        "id": "pb5gQ16L2XXT"
      },
      "source": [
        "!unzip -q yawning-detection.zip -d data/"
      ],
      "execution_count": 3,
      "outputs": []
    },
    {
      "cell_type": "code",
      "metadata": {
        "id": "AwKnTXVrasBq"
      },
      "source": [
        "import pandas as pd\r\n",
        "import numpy as np\r\n",
        "import os\r\n",
        "\r\n",
        "df = pd.read_csv('data/train.csv')\r\n",
        "try:\r\n",
        "  os.makedirs('data/train/yawning')\r\n",
        "  os.makedirs('data/train/not_yawning')\r\n",
        "except:\r\n",
        "  print('Directories already created')\r\n",
        "\r\n",
        "df\r\n",
        "for i, row in df.iterrows():\r\n",
        "  filename = row['image_id'][6:]\r\n",
        "  if row['label']:\r\n",
        "    os.rename(\"data/train/\"+filename, \"data/train/yawning/\"+filename)\r\n",
        "  else:\r\n",
        "    os.rename(\"data/train/\"+filename, \"data/train/not_yawning/\"+filename)"
      ],
      "execution_count": 4,
      "outputs": []
    },
    {
      "cell_type": "code",
      "metadata": {
        "colab": {
          "base_uri": "https://localhost:8080/",
          "height": 155
        },
        "id": "gP_nE2598JKV",
        "outputId": "1099434b-66af-4b82-e4f0-a2fa76aa5df8"
      },
      "source": [
        "from keras.preprocessing.image import ImageDataGenerator, array_to_img, img_to_array, load_img\r\n",
        "from IPython.display import Image \r\n",
        "from matplotlib.pyplot import imshow\r\n",
        "%matplotlib inline\r\n",
        "\r\n",
        "img = load_img('data/train/yawning/123456 (1201).jpg')\r\n",
        "x = img_to_array(img)\r\n",
        "display(img)\r\n",
        "print(x.shape)"
      ],
      "execution_count": 5,
      "outputs": [
        {
          "output_type": "display_data",
          "data": {
            "image/png": "[encoded data removed]",
            "text/plain": [
              "<PIL.JpegImagePlugin.JpegImageFile image mode=RGB size=120x120 at 0x7F455AAF2748>"
            ]
          },
          "metadata": {
            "tags": []
          }
        },
        {
          "output_type": "stream",
          "text": [
            "(120, 120, 3)\n"
          ],
          "name": "stdout"
        }
      ]
    },
    {
      "cell_type": "code",
      "metadata": {
        "id": "i73IS72o7zJP"
      },
      "source": [
        "from keras.models import Sequential\r\n",
        "from keras.layers import Conv2D, MaxPooling2D\r\n",
        "from keras.layers import Activation, Dropout, Flatten, Dense"
      ],
      "execution_count": 10,
      "outputs": []
    },
    {
      "cell_type": "code",
      "metadata": {
        "id": "iE1HDWHN4Frp",
        "colab": {
          "base_uri": "https://localhost:8080/"
        },
        "outputId": "ae484d7f-8344-4f79-e5b3-1c9345d233e3"
      },
      "source": [
        "model = Sequential()\r\n",
        "model.add(Conv2D(32, (3, 3), input_shape=(120, 120, 3)))\r\n",
        "model.add(Activation('relu'))\r\n",
        "model.add(MaxPooling2D((2, 2)))\r\n",
        "\r\n",
        "model.add(Conv2D(32, (3, 3)))\r\n",
        "model.add(Activation('relu'))\r\n",
        "model.add(MaxPooling2D(pool_size=(2, 2)))\r\n",
        "\r\n",
        "model.add(Conv2D(64, (3, 3)))\r\n",
        "model.add(Activation('relu'))\r\n",
        "model.add(MaxPooling2D(pool_size=(2, 2)))\r\n",
        "\r\n",
        "model.add(Flatten())\r\n",
        "model.add(Dense(64))\r\n",
        "model.add(Activation('relu'))\r\n",
        "model.add(Dropout(0.5))\r\n",
        "model.add(Dense(1))\r\n",
        "model.add(Activation('sigmoid'))\r\n",
        "\r\n",
        "model.compile(loss='binary_crossentropy',\r\n",
        "              optimizer='adam',\r\n",
        "              metrics=['accuracy'])\r\n",
        "\r\n",
        "\r\n",
        "model.summary()"
      ],
      "execution_count": 11,
      "outputs": [
        {
          "output_type": "stream",
          "text": [
            "Model: \"sequential\"\n",
            "_________________________________________________________________\n",
            "Layer (type)                 Output Shape              Param #   \n",
            "=================================================================\n",
            "conv2d (Conv2D)              (None, 118, 118, 32)      896       \n",
            "_________________________________________________________________\n",
            "activation (Activation)      (None, 118, 118, 32)      0         \n",
            "_________________________________________________________________\n",
            "max_pooling2d (MaxPooling2D) (None, 59, 59, 32)        0         \n",
            "_________________________________________________________________\n",
            "conv2d_1 (Conv2D)            (None, 57, 57, 32)        9248      \n",
            "_________________________________________________________________\n",
            "activation_1 (Activation)    (None, 57, 57, 32)        0         \n",
            "_________________________________________________________________\n",
            "max_pooling2d_1 (MaxPooling2 (None, 28, 28, 32)        0         \n",
            "_________________________________________________________________\n",
            "conv2d_2 (Conv2D)            (None, 26, 26, 64)        18496     \n",
            "_________________________________________________________________\n",
            "activation_2 (Activation)    (None, 26, 26, 64)        0         \n",
            "_________________________________________________________________\n",
            "max_pooling2d_2 (MaxPooling2 (None, 13, 13, 64)        0         \n",
            "_________________________________________________________________\n",
            "flatten (Flatten)            (None, 10816)             0         \n",
            "_________________________________________________________________\n",
            "dense (Dense)                (None, 64)                692288    \n",
            "_________________________________________________________________\n",
            "activation_3 (Activation)    (None, 64)                0         \n",
            "_________________________________________________________________\n",
            "dropout (Dropout)            (None, 64)                0         \n",
            "_________________________________________________________________\n",
            "dense_1 (Dense)              (None, 1)                 65        \n",
            "_________________________________________________________________\n",
            "activation_4 (Activation)    (None, 1)                 0         \n",
            "=================================================================\n",
            "Total params: 720,993\n",
            "Trainable params: 720,993\n",
            "Non-trainable params: 0\n",
            "_________________________________________________________________\n"
          ],
          "name": "stdout"
        }
      ]
    },
    {
      "cell_type": "code",
      "metadata": {
        "colab": {
          "base_uri": "https://localhost:8080/"
        },
        "id": "iuW7bWsA6wsq",
        "outputId": "83819e7d-7d9e-43bf-cc5a-124b29e8e92b"
      },
      "source": [
        "batch_size = 32\r\n",
        "# this is the augmentation configuration we will use for training\r\n",
        "train_datagen = ImageDataGenerator(\r\n",
        "        rescale=1./255,\r\n",
        "        shear_range=0.2,\r\n",
        "        zoom_range=0.2,\r\n",
        "        horizontal_flip=True,\r\n",
        "        validation_split=0.2)\r\n",
        "\r\n",
        "test_datagen = ImageDataGenerator(rescale=1./255)\r\n",
        "\r\n",
        "train_generator = train_datagen.flow_from_directory(\r\n",
        "        'data/train/',  # this is the target directory\r\n",
        "        target_size=(120, 120),  # all images will be resized to 150x150\r\n",
        "        batch_size=batch_size,\r\n",
        "        class_mode='binary', subset='training')  # since we use binary_crossentropy loss, we need binary labels\r\n",
        "\r\n",
        "# this is a similar generator, for validation data\r\n",
        "validation_generator = train_datagen.flow_from_directory(\r\n",
        "        'data/train/',\r\n",
        "        target_size=(120, 120),\r\n",
        "        batch_size=batch_size,\r\n",
        "        class_mode='binary', subset='validation')"
      ],
      "execution_count": 12,
      "outputs": [
        {
          "output_type": "stream",
          "text": [
            "Found 4194 images belonging to 2 classes.\n",
            "Found 1048 images belonging to 2 classes.\n"
          ],
          "name": "stdout"
        }
      ]
    },
    {
      "cell_type": "code",
      "metadata": {
        "colab": {
          "base_uri": "https://localhost:8080/"
        },
        "id": "q32BzDqAZ7cZ",
        "outputId": "4375f715-1cfb-421c-b255-00e97fcdab1b"
      },
      "source": [
        "model.fit_generator(\r\n",
        "        train_generator,\r\n",
        "        steps_per_epoch=2000 // batch_size,\r\n",
        "        epochs=10,\r\n",
        "        validation_data=validation_generator,\r\n",
        "        validation_steps=800 // batch_size)"
      ],
      "execution_count": 13,
      "outputs": [
        {
          "output_type": "stream",
          "text": [
            "/usr/local/lib/python3.6/dist-packages/tensorflow/python/keras/engine/training.py:1844: UserWarning: `Model.fit_generator` is deprecated and will be removed in a future version. Please use `Model.fit`, which supports generators.\n",
            "  warnings.warn('`Model.fit_generator` is deprecated and '\n"
          ],
          "name": "stderr"
        },
        {
          "output_type": "stream",
          "text": [
            "Epoch 1/10\n",
            "62/62 [==============================] - 16s 149ms/step - loss: 0.7017 - accuracy: 0.5310 - val_loss: 0.6983 - val_accuracy: 0.4975\n",
            "Epoch 2/10\n",
            "62/62 [==============================] - 9s 146ms/step - loss: 0.6929 - accuracy: 0.5309 - val_loss: 0.6551 - val_accuracy: 0.6712\n",
            "Epoch 3/10\n",
            "62/62 [==============================] - 9s 147ms/step - loss: 0.5798 - accuracy: 0.7205 - val_loss: 0.4864 - val_accuracy: 0.8225\n",
            "Epoch 4/10\n",
            "62/62 [==============================] - 9s 145ms/step - loss: 0.4652 - accuracy: 0.8026 - val_loss: 0.3381 - val_accuracy: 0.8537\n",
            "Epoch 5/10\n",
            "62/62 [==============================] - 9s 148ms/step - loss: 0.3841 - accuracy: 0.8554 - val_loss: 0.2900 - val_accuracy: 0.8813\n",
            "Epoch 6/10\n",
            "62/62 [==============================] - 9s 145ms/step - loss: 0.3874 - accuracy: 0.8431 - val_loss: 0.2381 - val_accuracy: 0.9000\n",
            "Epoch 7/10\n",
            "62/62 [==============================] - 9s 145ms/step - loss: 0.3371 - accuracy: 0.8589 - val_loss: 0.2699 - val_accuracy: 0.9013\n",
            "Epoch 8/10\n",
            "62/62 [==============================] - 9s 145ms/step - loss: 0.3281 - accuracy: 0.8776 - val_loss: 0.2346 - val_accuracy: 0.9162\n",
            "Epoch 9/10\n",
            "62/62 [==============================] - 9s 145ms/step - loss: 0.3157 - accuracy: 0.8969 - val_loss: 0.2581 - val_accuracy: 0.9000\n",
            "Epoch 10/10\n",
            "62/62 [==============================] - 9s 143ms/step - loss: 0.3079 - accuracy: 0.8745 - val_loss: 0.3297 - val_accuracy: 0.8637\n"
          ],
          "name": "stdout"
        },
        {
          "output_type": "execute_result",
          "data": {
            "text/plain": [
              "<tensorflow.python.keras.callbacks.History at 0x7f451ff64d30>"
            ]
          },
          "metadata": {
            "tags": []
          },
          "execution_count": 13
        }
      ]
    },
    {
      "cell_type": "code",
      "metadata": {
        "id": "oqZ6uy0keUox"
      },
      "source": [
        "import keras\r\n",
        "import tensorflow as tf\r\n",
        "img = keras.preprocessing.image.load_img(\r\n",
        "    \"data/test/123456 (487).jpg\", target_size=(120, 120)\r\n",
        ")\r\n",
        "img_array = keras.preprocessing.image.img_to_array(img)\r\n",
        "img_array = tf.expand_dims(img_array, 0)  # Create batch axis\r\n",
        "\r\n",
        "predictions = model.predict(img_array)\r\n",
        "score = predictions\r\n",
        "print(score)\r\n"
      ],
      "execution_count": null,
      "outputs": []
    },
    {
      "cell_type": "code",
      "metadata": {
        "id": "D5fANZLpht7y",
        "colab": {
          "base_uri": "https://localhost:8080/"
        },
        "outputId": "66177ea8-f062-452c-9fa1-b74a12cedc2d"
      },
      "source": [
        "from keras.preprocessing import image\r\n",
        "images = []\r\n",
        "folder_path = 'data/test/'\r\n",
        "test_df = pd.read_csv('data/sample_submission.csv')\r\n",
        "for i, row in test_df.iterrows():\r\n",
        "    img = os.path.join(folder_path, row['image_id'][5:])\r\n",
        "    img = image.load_img(img, target_size=(120, 120))\r\n",
        "    img = image.img_to_array(img)\r\n",
        "    img = np.expand_dims(img, axis=0)\r\n",
        "    images.append(img)\r\n",
        "# images\r\n",
        "# stack up images list to pass for prediction\r\n",
        "images = np.vstack(images)\r\n",
        "classes = model.predict_classes(images, batch_size=16).reshape(-1)\r\n",
        "print(classes)"
      ],
      "execution_count": 27,
      "outputs": [
        {
          "output_type": "stream",
          "text": [
            "/usr/local/lib/python3.6/dist-packages/tensorflow/python/keras/engine/sequential.py:450: UserWarning: `model.predict_classes()` is deprecated and will be removed after 2021-01-01. Please use instead:* `np.argmax(model.predict(x), axis=-1)`,   if your model does multi-class classification   (e.g. if it uses a `softmax` last-layer activation).* `(model.predict(x) > 0.5).astype(\"int32\")`,   if your model does binary classification   (e.g. if it uses a `sigmoid` last-layer activation).\n",
            "  warnings.warn('`model.predict_classes()` is deprecated and '\n"
          ],
          "name": "stderr"
        },
        {
          "output_type": "stream",
          "text": [
            "[0 1 0 ... 1 1 0]\n"
          ],
          "name": "stdout"
        }
      ]
    },
    {
      "cell_type": "code",
      "metadata": {
        "colab": {
          "base_uri": "https://localhost:8080/",
          "height": 424
        },
        "id": "E2VbLZJGeLcd",
        "outputId": "281d2f30-c227-44bf-c07b-110b57445c19"
      },
      "source": [
        "test_df['label'] = classes\r\n",
        "test_df"
      ],
      "execution_count": 28,
      "outputs": [
        {
          "output_type": "execute_result",
          "data": {
            "text/html": [
              "<div>\n",
              "<style scoped>\n",
              "    .dataframe tbody tr th:only-of-type {\n",
              "        vertical-align: middle;\n",
              "    }\n",
              "\n",
              "    .dataframe tbody tr th {\n",
              "        vertical-align: top;\n",
              "    }\n",
              "\n",
              "    .dataframe thead th {\n",
              "        text-align: right;\n",
              "    }\n",
              "</style>\n",
              "<table border=\"1\" class=\"dataframe\">\n",
              "  <thead>\n",
              "    <tr style=\"text-align: right;\">\n",
              "      <th></th>\n",
              "      <th>image_id</th>\n",
              "      <th>label</th>\n",
              "    </tr>\n",
              "  </thead>\n",
              "  <tbody>\n",
              "    <tr>\n",
              "      <th>0</th>\n",
              "      <td>test\\1234567 (1171).jpg</td>\n",
              "      <td>0</td>\n",
              "    </tr>\n",
              "    <tr>\n",
              "      <th>1</th>\n",
              "      <td>test\\123456 (3940).jpg</td>\n",
              "      <td>1</td>\n",
              "    </tr>\n",
              "    <tr>\n",
              "      <th>2</th>\n",
              "      <td>test\\1234567 (178).jpg</td>\n",
              "      <td>0</td>\n",
              "    </tr>\n",
              "    <tr>\n",
              "      <th>3</th>\n",
              "      <td>test\\1234567 (809).jpg</td>\n",
              "      <td>0</td>\n",
              "    </tr>\n",
              "    <tr>\n",
              "      <th>4</th>\n",
              "      <td>test\\123456 (681).jpg</td>\n",
              "      <td>1</td>\n",
              "    </tr>\n",
              "    <tr>\n",
              "      <th>...</th>\n",
              "      <td>...</td>\n",
              "      <td>...</td>\n",
              "    </tr>\n",
              "    <tr>\n",
              "      <th>2939</th>\n",
              "      <td>test\\1234567 (682).jpg</td>\n",
              "      <td>0</td>\n",
              "    </tr>\n",
              "    <tr>\n",
              "      <th>2940</th>\n",
              "      <td>test\\123456 (212).jpg</td>\n",
              "      <td>1</td>\n",
              "    </tr>\n",
              "    <tr>\n",
              "      <th>2941</th>\n",
              "      <td>test\\123456 (3914).jpg</td>\n",
              "      <td>1</td>\n",
              "    </tr>\n",
              "    <tr>\n",
              "      <th>2942</th>\n",
              "      <td>test\\123456 (961).jpg</td>\n",
              "      <td>1</td>\n",
              "    </tr>\n",
              "    <tr>\n",
              "      <th>2943</th>\n",
              "      <td>test\\1234567 (1176).jpg</td>\n",
              "      <td>0</td>\n",
              "    </tr>\n",
              "  </tbody>\n",
              "</table>\n",
              "<p>2944 rows × 2 columns</p>\n",
              "</div>"
            ],
            "text/plain": [
              "                     image_id  label\n",
              "0     test\\1234567 (1171).jpg      0\n",
              "1      test\\123456 (3940).jpg      1\n",
              "2      test\\1234567 (178).jpg      0\n",
              "3      test\\1234567 (809).jpg      0\n",
              "4       test\\123456 (681).jpg      1\n",
              "...                       ...    ...\n",
              "2939   test\\1234567 (682).jpg      0\n",
              "2940    test\\123456 (212).jpg      1\n",
              "2941   test\\123456 (3914).jpg      1\n",
              "2942    test\\123456 (961).jpg      1\n",
              "2943  test\\1234567 (1176).jpg      0\n",
              "\n",
              "[2944 rows x 2 columns]"
            ]
          },
          "metadata": {
            "tags": []
          },
          "execution_count": 28
        }
      ]
    },
    {
      "cell_type": "code",
      "metadata": {
        "id": "wz0zChnwepfX"
      },
      "source": [
        "test_df.to_csv('first_submission.csv', index=False)"
      ],
      "execution_count": 30,
      "outputs": []
    },
    {
      "cell_type": "code",
      "metadata": {
        "id": "WBVxb7itf7jl"
      },
      "source": [
        ""
      ],
      "execution_count": null,
      "outputs": []
    }
  ]
}